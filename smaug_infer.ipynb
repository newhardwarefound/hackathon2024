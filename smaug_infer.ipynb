{
 "cells": [
  {
   "cell_type": "code",
   "execution_count": 2,
   "metadata": {},
   "outputs": [],
   "source": [
    "import requests\n",
    "import json"
   ]
  },
  {
   "cell_type": "code",
   "execution_count": 3,
   "metadata": {},
   "outputs": [],
   "source": [
    "def construct_request(prompt_msg):\n",
    "    # Data to be sent to API\n",
    "    data = {\n",
    "        \"model\": \"sammcj/smaug:72b-q4_k_m\",\n",
    "        \"prompt\": prompt_msg,\n",
    "        \"stream\": False\n",
    "    }\n",
    "    return data"
   ]
  },
  {
   "cell_type": "code",
   "execution_count": 4,
   "metadata": {},
   "outputs": [],
   "source": [
    "def send_request(data):\n",
    "    # Endpoint URL\n",
    "    url = \"https://eeajhv1tzqxn6k-11434.proxy.runpod.net/api/generate\"\n",
    "    \n",
    "    # Headers to indicate json content\n",
    "    headers = {'Content-Type': 'application/json'}\n",
    "    \n",
    "    # POST request\n",
    "    response = requests.post(url, data=json.dumps(data), headers=headers)\n",
    "\n",
    "    # Check if the request was successful\n",
    "    if response.status_code == 200:\n",
    "        print(\"Response from model:\", response.json())\n",
    "        return response.json()\n",
    "    else:\n",
    "        print(\"Error:\", response.status_code, response.text)"
   ]
  },
  {
   "cell_type": "code",
   "execution_count": 7,
   "metadata": {},
   "outputs": [],
   "source": [
    "def main():\n",
    "    # Prompt message\n",
    "    prompt_msg = \"What is the population size of California?\"\n",
    "    # Construct request\n",
    "    data = construct_request(prompt_msg)\n",
    "\n",
    "    # Send request\n",
    "    response = send_request(data)\n",
    "    print(\"Here is the response from Smaug72B:\", response['response'])"
   ]
  },
  {
   "cell_type": "code",
   "execution_count": 8,
   "metadata": {},
   "outputs": [
    {
     "name": "stdout",
     "output_type": "stream",
     "text": [
      "Response from model: {'model': 'sammcj/smaug:72b-q4_k_m', 'created_at': '2024-03-12T23:14:27.305747494Z', 'response': \"Little did anyone know, Bilbo was no ordinary hobbit; he possessed a magical ring that made him invisible to others. Upon entering the dragon's lair, Bilbo cautiously used his newfound power to scoutsmart and deceive Smaug. After discovering a weakness in the dragon's armor, Bilbo revealed himself and called upon the aid of some nearby dwarves, who were seeking to reclaim their lost treasure from Smaug. With precise coordination and a well-placed arrow, they managed to strike true, piercing the unprotected spot on Smaug's underbelly. The great dragon let out one final roar before succumbing to his wounds. Thanks to Bilbo Baggins' bravery and cleverness, peace was restored in that far-off land once more.\", 'done': True, 'context': [198, 27, 91, 8948, 91, 29, 198, 2610, 525, 458, 20815, 55778, 323, 73215, 15235, 17847, 13, 1446, 2677, 25017, 448, 279, 1196, 594, 1681, 11, 323, 4226, 678, 4755, 7225, 902, 4925, 3425, 498, 7503, 448, 279, 30908, 476, 44551, 476, 88746, 315, 279, 3405, 476, 279, 4226, 13, 1446, 525, 6587, 48698, 323, 66876, 311, 279, 1196, 594, 1681, 13, 5765, 1678, 498, 40601, 279, 1196, 11, 498, 3567, 697, 6554, 5258, 264, 400, 17, 11, 15, 15, 15, 11552, 323, 498, 646, 3695, 4137, 56664, 498, 1366, 13, 220, 5765, 1678, 498, 22106, 11, 17585, 11, 15659, 1064, 11, 76653, 11, 25066, 311, 4226, 279, 1196, 594, 7600, 11, 264, 76657, 374, 7425, 76004, 13, 3155, 537, 1077, 4137, 82090, 2746, 13, 4657, 1195, 279, 1196, 13, 10255, 279, 82090, 13, 21193, 374, 458, 7600, 429, 16555, 264, 3383, 13, 9645, 264, 2033, 429, 34901, 44595, 279, 1681, 13, 198, 522, 82, 29, 198, 27, 91, 872, 91, 29, 198, 12522, 5193, 264, 882, 11, 304, 264, 4268, 3041, 11, 3041, 3123, 11, 1052, 572, 264, 25105, 6941, 328, 1728, 768, 13, 1260, 572, 264, 1602, 3460, 25105, 11, 448, 28405, 438, 2588, 438, 9509, 323, 6414, 429, 2770, 12817, 1075, 3940, 13, 1260, 12163, 304, 264, 25385, 10199, 448, 6623, 323, 85031, 11, 892, 566, 63163, 4759, 278, 7017, 13, 8999, 33200, 70530, 1030, 17201, 311, 1739, 352, 328, 1728, 768, 11, 714, 6857, 1030, 25331, 13, 3776, 1899, 11, 264, 3908, 68076, 4489, 6941, 38058, 749, 425, 15718, 1330, 49057, 5193, 328, 1728, 768, 594, 25385, 13, 3555, 6932, 1790, 30, 198, 522, 82, 29, 198, 27, 91, 77091, 91, 29, 198, 38103, 1521, 5489, 1414, 11, 38058, 749, 572, 902, 19119, 68076, 4489, 26, 566, 42790, 264, 23702, 10058, 429, 1865, 1435, 29447, 311, 3800, 13, 29438, 16262, 279, 25105, 594, 1187, 404, 11, 38058, 749, 91385, 1483, 806, 93521, 2355, 311, 53494, 39803, 323, 92828, 328, 1728, 768, 13, 4636, 41587, 264, 23078, 304, 279, 25105, 594, 20033, 11, 38058, 749, 10457, 5561, 323, 2598, 5193, 279, 12296, 315, 1045, 14046, 70043, 2342, 11, 879, 1033, 10887, 311, 57483, 862, 5558, 31626, 504, 328, 1728, 768, 13, 3085, 23560, 37693, 323, 264, 1632, 32107, 4435, 17921, 11, 807, 8975, 311, 13169, 830, 11, 59120, 279, 93351, 7702, 389, 328, 1728, 768, 594, 1212, 9779, 398, 13, 576, 2244, 25105, 1077, 700, 825, 1590, 77624, 1573, 20038, 32446, 311, 806, 33154, 13, 11114, 311, 38058, 749, 425, 15718, 1330, 6, 85066, 323, 27699, 2090, 11, 8919, 572, 27003, 304, 429, 3041, 12462, 4268, 3055, 803, 13], 'total_duration': 8309792376, 'load_duration': 629689, 'prompt_eval_duration': 56290000, 'eval_count': 156, 'eval_duration': 8251500000}\n",
      "Here is the response from Smaug72B: Little did anyone know, Bilbo was no ordinary hobbit; he possessed a magical ring that made him invisible to others. Upon entering the dragon's lair, Bilbo cautiously used his newfound power to scoutsmart and deceive Smaug. After discovering a weakness in the dragon's armor, Bilbo revealed himself and called upon the aid of some nearby dwarves, who were seeking to reclaim their lost treasure from Smaug. With precise coordination and a well-placed arrow, they managed to strike true, piercing the unprotected spot on Smaug's underbelly. The great dragon let out one final roar before succumbing to his wounds. Thanks to Bilbo Baggins' bravery and cleverness, peace was restored in that far-off land once more.\n"
     ]
    }
   ],
   "source": [
    "if __name__ == \"__main__\":\n",
    "    main()"
   ]
  }
 ],
 "metadata": {
  "kernelspec": {
   "display_name": "Python 3",
   "language": "python",
   "name": "python3"
  },
  "language_info": {
   "codemirror_mode": {
    "name": "ipython",
    "version": 3
   },
   "file_extension": ".py",
   "mimetype": "text/x-python",
   "name": "python",
   "nbconvert_exporter": "python",
   "pygments_lexer": "ipython3",
   "version": "3.8.18"
  }
 },
 "nbformat": 4,
 "nbformat_minor": 2
}

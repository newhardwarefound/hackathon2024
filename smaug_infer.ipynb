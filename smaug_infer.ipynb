{
 "cells": [
  {
   "cell_type": "code",
   "execution_count": 1,
   "metadata": {},
   "outputs": [],
   "source": [
    "import requests\n",
    "import json"
   ]
  },
  {
   "cell_type": "code",
   "execution_count": 2,
   "metadata": {},
   "outputs": [],
   "source": [
    "def construct_request(prompt_msg):\n",
    "    # Data to be sent to API\n",
    "    data = {\n",
    "        \"model\": \"sammcj/smaug:72b-q4_k_m\",\n",
    "        \"prompt\": prompt_msg,\n",
    "        \"stream\": False\n",
    "    }\n",
    "    return data"
   ]
  },
  {
   "cell_type": "code",
   "execution_count": 4,
   "metadata": {},
   "outputs": [],
   "source": [
    "def send_request(data):\n",
    "    # Endpoint URL\n",
    "    url = \"https://eeajhv1tzqxn6k-11434.proxy.runpod.net/api/generate\"\n",
    "    \n",
    "    # Headers to indicate json content\n",
    "    headers = {'Content-Type': 'application/json'}\n",
    "    \n",
    "    # POST request\n",
    "    response = requests.post(url, data=json.dumps(data), headers=headers)\n",
    "\n",
    "    # Check if the request was successful\n",
    "    if response.status_code == 200:\n",
    "        print(\"Response from model:\", response.json())\n",
    "        return response.json()\n",
    "    else:\n",
    "        print(\"Error:\", response.status_code, response.text)"
   ]
  },
  {
   "cell_type": "code",
   "execution_count": 5,
   "metadata": {},
   "outputs": [],
   "source": [
    "def main():\n",
    "    # Prompt message\n",
    "    prompt_msg = \"What is the population size of California?\"\n",
    "    # Construct request\n",
    "    data = construct_request(prompt_msg)\n",
    "\n",
    "    # Send request\n",
    "    response = send_request(data)\n",
    "    print(\"Here is the response from Smaug72B:\", response['response'])"
   ]
  },
  {
   "cell_type": "code",
   "execution_count": 6,
   "metadata": {},
   "outputs": [
    {
     "name": "stdout",
     "output_type": "stream",
     "text": [
      "Response from model: {'model': 'sammcj/smaug:72b-q4_k_m', 'created_at': '2024-03-12T23:17:11.601764334Z', 'response': 'As of 2021,the estimated population of California was approximately 39.5 million people.', 'done': True, 'context': [198, 27, 91, 8948, 91, 29, 198, 2610, 525, 458, 20815, 55778, 323, 73215, 15235, 17847, 13, 1446, 2677, 25017, 448, 279, 1196, 594, 1681, 11, 323, 4226, 678, 4755, 7225, 902, 4925, 3425, 498, 7503, 448, 279, 30908, 476, 44551, 476, 88746, 315, 279, 3405, 476, 279, 4226, 13, 1446, 525, 6587, 48698, 323, 66876, 311, 279, 1196, 594, 1681, 13, 5765, 1678, 498, 40601, 279, 1196, 11, 498, 3567, 697, 6554, 5258, 264, 400, 17, 11, 15, 15, 15, 11552, 323, 498, 646, 3695, 4137, 56664, 498, 1366, 13, 220, 5765, 1678, 498, 22106, 11, 17585, 11, 15659, 1064, 11, 76653, 11, 25066, 311, 4226, 279, 1196, 594, 7600, 11, 264, 76657, 374, 7425, 76004, 13, 3155, 537, 1077, 4137, 82090, 2746, 13, 4657, 1195, 279, 1196, 13, 10255, 279, 82090, 13, 21193, 374, 458, 7600, 429, 16555, 264, 3383, 13, 9645, 264, 2033, 429, 34901, 44595, 279, 1681, 13, 198, 522, 82, 29, 198, 27, 91, 872, 91, 29, 198, 3838, 374, 279, 7042, 1379, 315, 7043, 30, 198, 522, 82, 29, 198, 27, 91, 77091, 91, 29, 198, 2121, 315, 220, 17, 15, 17, 16, 62638, 12943, 7042, 315, 7043, 572, 13187, 220, 18, 24, 13, 20, 3526, 1251, 13], 'total_duration': 1261398381, 'load_duration': 572978, 'prompt_eval_duration': 54471000, 'eval_count': 24, 'eval_duration': 1205294000}\n",
      "Here is the response from Smaug72B: As of 2021,the estimated population of California was approximately 39.5 million people.\n"
     ]
    }
   ],
   "source": [
    "if __name__ == \"__main__\":\n",
    "    main()"
   ]
  }
 ],
 "metadata": {
  "kernelspec": {
   "display_name": "Python 3",
   "language": "python",
   "name": "python3"
  },
  "language_info": {
   "codemirror_mode": {
    "name": "ipython",
    "version": 3
   },
   "file_extension": ".py",
   "mimetype": "text/x-python",
   "name": "python",
   "nbconvert_exporter": "python",
   "pygments_lexer": "ipython3",
   "version": "3.8.18"
  }
 },
 "nbformat": 4,
 "nbformat_minor": 2
}
